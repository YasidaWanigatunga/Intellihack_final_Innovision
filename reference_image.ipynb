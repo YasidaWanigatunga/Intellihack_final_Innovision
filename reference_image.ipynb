{
 "cells": [
  {
   "cell_type": "code",
   "execution_count": 1,
   "metadata": {},
   "outputs": [
    {
     "name": "stderr",
     "output_type": "stream",
     "text": [
      "c:\\Users\\DELL\\OneDrive\\Documents\\GitHub\\Intellihack_Final_Round_Innovision\\venv\\Lib\\site-packages\\tqdm\\auto.py:21: TqdmWarning: IProgress not found. Please update jupyter and ipywidgets. See https://ipywidgets.readthedocs.io/en/stable/user_install.html\n",
      "  from .autonotebook import tqdm as notebook_tqdm\n"
     ]
    }
   ],
   "source": [
    "import os\n",
    "import google.generativeai as genai\n",
    "from pdf2image import convert_from_path\n",
    "from PIL import Image\n",
    "from IPython.display import display\n",
    "from IPython.display import Markdown\n",
    "import textwrap\n",
    "import re\n",
    "import warnings\n",
    "from dotenv import load_dotenv\n",
    "import openai\n",
    "\n",
    "warnings.filterwarnings(\"ignore\")"
   ]
  },
  {
   "cell_type": "code",
   "execution_count": 2,
   "metadata": {},
   "outputs": [],
   "source": [
    "def to_markdown(text):\n",
    "  text = text.replace('•', '  *')\n",
    "  return Markdown(textwrap.indent(text, '> ', predicate=lambda _: True))"
   ]
  },
  {
   "cell_type": "code",
   "execution_count": 8,
   "metadata": {},
   "outputs": [],
   "source": [
    "load_dotenv()\n",
    "GOOGLE_API_KEY = os.getenv('GOOGLE_API_KEY')\n",
    "poppler_path = os.getenv('poppler_path')\n",
    "openai.api_key = os.getenv('OPENAI_API_KEY')\n",
    "\n",
    "# Configure the genai with the Google API key\n",
    "genai.configure(api_key=GOOGLE_API_KEY)\n",
    "\n",
    "model1 = genai.GenerativeModel('gemini-pro-vision')\n"
   ]
  },
  {
   "cell_type": "code",
   "execution_count": 4,
   "metadata": {},
   "outputs": [],
   "source": [
    "def get_metadata(paper_path, model):\n",
    "    \n",
    "    # Convert PDF to images\n",
    "    images = convert_from_path(paper_path, 600, poppler_path=poppler_path)\n",
    "\n",
    "    # Save the first page as an image\n",
    "    image_path ='page0.jpg'\n",
    "    images[0].save(image_path, 'JPEG')\n",
    "\n",
    "    # Load the saved image\n",
    "    img = Image.open(image_path)\n",
    "\n",
    "    # Define the prompt for the model\n",
    "    prompt = '''\n",
    "    Please find the answers for the following questions from the image:\n",
    "    title_query = \"What is the title of this paper?\"\n",
    "    authors_query = \"Who are the authors of this paper? Use full names.\"\n",
    "    year_query = \"Could you please tell me when this paper was published?\"\n",
    "    journal_query = \"Which journal was this paper published in?\"\n",
    "    volume_query = \"What is the volume number?\"\n",
    "    issue_query = \"What is the issue number?\"\n",
    "    pages_query = \"What are the page numbers?\"\n",
    "    doi_query = \"What is the DOI number?\"\n",
    "    '''\n",
    "\n",
    "    # Generate content using the model (you should replace this with your actual model call)\n",
    "    response = model.generate_content([prompt, img])\n",
    "\n",
    "    # Extract and return the generated text\n",
    "    return response.text"
   ]
  },
  {
   "cell_type": "code",
   "execution_count": 5,
   "metadata": {},
   "outputs": [
    {
     "data": {
      "text/plain": [
       "'Metadata: \\n title_query: Assessment of the Risk of Severe Dengue Using Intrahost Viral Population in Dengue Virus Serotype 2 Patients via Machine Learning\\n\\nauthors_query: Su-Ihen Huang1, Huey-Pin Tsai2,3, Ya-Fang Wang4, Wen-Chien Ko5,6, Jen-Ren Wang2,3,4,7 and Sheng-Wen Huang1\\n\\nyear_query: 2022\\n\\njournal_query: Frontiers in Cellular and Infection Microbiology\\n\\nvolume_query: 12\\n\\nissue_query: None\\n\\npages_query: 831281\\n\\ndoi_query: 10.3389/fcimb.2022.831281'"
      ]
     },
     "metadata": {},
     "output_type": "display_data"
    }
   ],
   "source": [
    "paper_path = \"C:/Users/DELL/OneDrive/Documents/GitHub/Intellihack_final_Innovision/papers/2022_SD.pdf\"\n",
    "metadata = get_metadata(paper_path, model1)\n",
    "display(f\"Metadata: \\n{metadata}\")"
   ]
  },
  {
   "cell_type": "code",
   "execution_count": 11,
   "metadata": {},
   "outputs": [],
   "source": [
    "def get_reference(style, metadata, custom='custom'):\n",
    "    \n",
    "    # Remove 'Metadata:' if it exists\n",
    "    metadata = re.sub(r'Metadata:\\s*', '', metadata)\n",
    "    \n",
    "    # parse metadata string into a dictionary\n",
    "    metadata_dict = {}\n",
    "    lines = metadata.strip().split('\\n')\n",
    "    for line in lines:\n",
    "        key_value = re.split(r':\\s*', line, maxsplit=1)\n",
    "        if len(key_value) == 2:\n",
    "            metadata_dict[key_value[0].strip()] = key_value[1].strip()\n",
    "    \n",
    "    if style == \"APA\":\n",
    "        # Define the prompt for the model\n",
    "        prompt = '''You are an expert in APA citations. Please write a bibliography for metadata using the following template(Do not change punctuation marks):\n",
    "        If DOI or URL is not given:\n",
    "        Author, A. A., & Author, B. B. (Year of publication). Title of article in sentence case:\n",
    "        Capitalize the first letter of the subtitle. Title of the Journal in Mixed Case and\n",
    "        speacially write in italics, volume number inspeacially write in italics (issue number), pp. xx-xx.\n",
    "\n",
    "        If it is given:\n",
    "        Author, A. A., & Author, B. B. (Year of publication). Title of article in sentence case:\n",
    "        Capitalize the first letter of the subtitle. Title of the Journal in Mixed Case and\n",
    "        speacially write in italics, volume number speacially write in italics (issue number), pp. xx-xx. DOI or URL'''\n",
    "\n",
    "    elif style == \"IEEE\":\n",
    "        # Define the prompt for the model\n",
    "        prompt = '''\n",
    "        You are an expert in IEEE citations. Please write a bibliography using the following template. \n",
    "        Note that the example below should be replaced with specific metadata: \n",
    "        J. Carlson, D. Menicucci, P. Vorobieff, A. Mammoli, and H. He, \"Infrared imaging method for flyby assessment \n",
    "        of solar thermal panel operation in field settings,\" Appl. Therm. Eng., vol. 70, no. 1, pp. 163-171, Sept. 2014. \n",
    "        Accessed Mar. 19, 2018. doi:10.1016/j.applthermaleng.2014.05.008. [Online]. \n",
    "        Available: https://www.sciencedirect.com/science/article/pii/S1359431114003561\n",
    "        '''\n",
    "    elif style == \"HARVARD\":\n",
    "        prompt = '''\n",
    "        You are an expert in HARVARD citations. Please write a bibliography using the following template. \n",
    "        Use below template.\n",
    "        If DOI or URL is given: \n",
    "        Write Journal name in Italics\n",
    "        A DOI specially should be written with the prefix https://doi.org/ followed by the DOI number\n",
    "        Never put a full stop after a DOI or URL as it may be assumed that it is part of the\n",
    "        DOI or URL and prevent it from working.\n",
    "        • Enclose the title of the article in single quotation marks.\n",
    "        • Capitalise the first letter of each of the main words of the journal title, but not the\n",
    "        linking words such as \"and\", \"for\", \"of\" or \"the\"\n",
    "        \n",
    "        ex: Dobson, H. (2006) 'Mister Sparkle meets the 'Yakuza': depictions of Japan in The Simpsons', Journal of Popular Culture, 39(1), \n",
    "        pp. 44–68. doi:https://doi.org/10.1111/j.1540-5931.2006.00203.x\n",
    "        '''\n",
    "\n",
    "    else :\n",
    "        prompt = custom\n",
    "\n",
    "    # Generate content using the model\n",
    "    response = response = openai.ChatCompletion.create(\n",
    "        model=\"gpt-3.5-turbo\",\n",
    "        messages=[\n",
    "            {\"role\": \"system\", \"content\": prompt},\n",
    "            {\"role\": \"user\", \"content\": metadata}\n",
    "        ],\n",
    "        max_tokens=500\n",
    "        )\n",
    "\n",
    "    # Extract and return the generated text\n",
    "    return response['choices'][0]['message']['content'].strip()"
   ]
  },
  {
   "cell_type": "code",
   "execution_count": 12,
   "metadata": {},
   "outputs": [
    {
     "data": {
      "text/markdown": [
       "Huang, S.-I., Tsai, H.-P., Wang, Y.-F., Ko, W.-C., Wang, J.-R., & Huang, S.-W. (2022). Assessment of the Risk of Severe Dengue Using Intrahost Viral Population in Dengue Virus Serotype 2 Patients via Machine Learning. *Frontiers in Cellular and Infection Microbiology*, *12*, 831281. https://doi.org/10.3389/fcimb.2022.831281"
      ],
      "text/plain": [
       "<IPython.core.display.Markdown object>"
      ]
     },
     "execution_count": 12,
     "metadata": {},
     "output_type": "execute_result"
    }
   ],
   "source": [
    "generated_reference = get_reference(\"APA\", metadata)\n",
    "Markdown(generated_reference)"
   ]
  },
  {
   "cell_type": "code",
   "execution_count": 14,
   "metadata": {},
   "outputs": [
    {
     "data": {
      "text/markdown": [
       "Huang, S.-I., Tsai, H.-P., Wang, Y.-F., Ko, W.-C., Wang, J.-R., & Huang, S.-W. (2022). Assessment of the Risk of Severe Dengue Using Intrahost Viral Population in Dengue Virus Serotype 2 Patients via Machine Learning. Frontiers in Cellular and Infection Microbiology, 12, 831281. https://doi.org/10.3389/fcimb.2022.831281"
      ],
      "text/plain": [
       "<IPython.core.display.Markdown object>"
      ]
     },
     "execution_count": 14,
     "metadata": {},
     "output_type": "execute_result"
    }
   ],
   "source": [
    "generated_reference = get_reference(\"IEEE\", metadata)\n",
    "Markdown(generated_reference)"
   ]
  },
  {
   "cell_type": "code",
   "execution_count": 13,
   "metadata": {},
   "outputs": [
    {
     "data": {
      "text/markdown": [
       "Huang, S., Tsai, H., Wang, Y., Ko, W., Wang, J., & Huang, S.: Assessment of the Risk of Severe Dengue Using Intrahost Viral Population in Dengue Virus Serotype 2 Patients via Machine Learning. Frontiers in Cellular and Infection Microbiology {12}(5), 831281 (2022)"
      ],
      "text/plain": [
       "<IPython.core.display.Markdown object>"
      ]
     },
     "execution_count": 13,
     "metadata": {},
     "output_type": "execute_result"
    }
   ],
   "source": [
    "generated_reference = get_reference(\"Custom\", metadata, custom='Please write reference using this format: Author, F., Author, S., Author, T.: Article title. Journal {2}(5), 99--110 (2016), Please Stric into this format and Do not change punctuation marks, The volume number is enclosed in curly braces {} The issue number is enclosed in parentheses ()')\n",
    "Markdown(generated_reference)"
   ]
  }
 ],
 "metadata": {
  "kernelspec": {
   "display_name": "Python 3",
   "language": "python",
   "name": "python3"
  },
  "language_info": {
   "codemirror_mode": {
    "name": "ipython",
    "version": 3
   },
   "file_extension": ".py",
   "mimetype": "text/x-python",
   "name": "python",
   "nbconvert_exporter": "python",
   "pygments_lexer": "ipython3",
   "version": "3.12.4"
  }
 },
 "nbformat": 4,
 "nbformat_minor": 2
}
